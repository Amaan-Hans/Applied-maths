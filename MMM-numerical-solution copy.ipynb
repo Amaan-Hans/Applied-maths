{
 "cells": [
  {
   "cell_type": "markdown",
   "metadata": {},
   "source": [
    "Experiment 1: Effect of time step, l"
   ]
  },
  {
   "cell_type": "code",
   "execution_count": 30,
   "metadata": {},
   "outputs": [],
   "source": [
    "import numpy as np\n",
    "import math"
   ]
  },
  {
   "cell_type": "markdown",
   "metadata": {},
   "source": [
    "using the implicit method"
   ]
  },
  {
   "cell_type": "code",
   "execution_count": 31,
   "metadata": {},
   "outputs": [
    {
     "name": "stdout",
     "output_type": "stream",
     "text": [
      "For delta_t = 0.01: X = 1290.3225593947598, Y1 = 2.8187372778697816e-05, Y2 = 4072.0571519608425\n",
      "For delta_t = 1: X = 1290.3225809384257, Y1 = 1.0620599592164852e-12, Y2 = 4072.0569755225115\n",
      "For delta_t = 3: X = 63999.99999011886, Y1 = 6.946105566075163e-67, Y2 = -1.6112403850483133e-136\n",
      "For delta_t = 3.3: X = 63999.999990844626, Y1 = 1.0374786375120036e-65, Y2 = 5.426407950247746e-137\n",
      "For delta_t = 10: X = 63999.99999734224, Y1 = 1.4295821484483196e-50, Y2 = 1.333667803442498e-99\n",
      "For delta_t = 1000: X = 63999.999999998814, Y1 = 4.307260593030621e-23, Y2 = 4.7245718333572424e-30\n"
     ]
    }
   ],
   "source": [
    "# Given constants\n",
    "P = 2000\n",
    "mu = 1/32\n",
    "gamma1 = 0.1\n",
    "gamma2 = 0.05\n",
    "tau = 0.4\n",
    "B1 = 0.06\n",
    "B2 = 0.5\n",
    "c = 4\n",
    "X0 = 8000\n",
    "Y01 = 200\n",
    "Y02 = 300\n",
    "delta_t_values = [0.01, 1, 3, 3.3, 10, 1000]\n",
    "\n",
    "# Function to perform one iteration of the system of equations using Gauss-Seidel-like method\n",
    "def iterate_system(Xn, Y1n, Y2n, dt):\n",
    "    Xnp1 = (Xn + P * dt) / (1 + dt * (mu + c / (Xn + Y1n + Y2n) * (B1 * Y1n + B2 * Y2n)))\n",
    "    Y1np1 = Y1n / (1 + dt * (mu + gamma1 + tau - (B1 * c * Xnp1) / (Xnp1 + Y1n + Y2n)))\n",
    "    Y2np1 = Y2n / (1 + dt * (mu + gamma2 + tau - (B2 * c * Xnp1) / (Xnp1 + Y1np1 + Y2n)))\n",
    "    return Xnp1, Y1np1, Y2np1\n",
    "\n",
    "# Function to solve the system for all time steps\n",
    "def solve_system(delta_t):\n",
    "    Xn = X0\n",
    "    Y1n = Y01\n",
    "    Y2n = Y02\n",
    "    max_iterations = 20000\n",
    "    tol = 1e-6\n",
    "    \n",
    "    # Gauss-Seidel-like iteration\n",
    "    for _ in range(max_iterations):\n",
    "        Xnp1, Y1np1, Y2np1 = iterate_system(Xn, Y1n, Y2n, delta_t)\n",
    "        \n",
    "        # Check convergence\n",
    "        if abs(Xnp1 - Xn) < tol and abs(Y1np1 - Y1n) < tol and abs(Y2np1 - Y2n) < tol:\n",
    "            return Xnp1, Y1np1, Y2np1\n",
    "        \n",
    "        # Update variables for next iteration\n",
    "        Xn, Y1n, Y2n = Xnp1, Y1np1, Y2np1\n",
    "    \n",
    "    # If max_iterations reached without convergence\n",
    "    raise ValueError(\"Failed to converge within the maximum number of iterations.\")\n",
    "\n",
    "# Solve the system for all time steps\n",
    "for dt in delta_t_values:\n",
    "    X, Y1, Y2 = solve_system(dt)\n",
    "    print(f\"For delta_t = {dt}: X = {X}, Y1 = {Y1}, Y2 = {Y2}\")\n"
   ]
  },
  {
   "cell_type": "markdown",
   "metadata": {},
   "source": [
    "effect of the basic reproductive numbers R_0"
   ]
  },
  {
   "cell_type": "code",
   "execution_count": null,
   "metadata": {},
   "outputs": [],
   "source": []
  }
 ],
 "metadata": {
  "kernelspec": {
   "display_name": "base",
   "language": "python",
   "name": "python3"
  },
  "language_info": {
   "codemirror_mode": {
    "name": "ipython",
    "version": 3
   },
   "file_extension": ".py",
   "mimetype": "text/x-python",
   "name": "python",
   "nbconvert_exporter": "python",
   "pygments_lexer": "ipython3",
   "version": "3.9.7"
  }
 },
 "nbformat": 4,
 "nbformat_minor": 2
}
