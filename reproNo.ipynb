{
 "cells": [
  {
   "cell_type": "code",
   "execution_count": 17,
   "metadata": {},
   "outputs": [],
   "source": [
    "import numpy as np\n",
    "from tabulate import tabulate"
   ]
  },
  {
   "cell_type": "code",
   "execution_count": 10,
   "metadata": {},
   "outputs": [
    {
     "name": "stdout",
     "output_type": "stream",
     "text": [
      "\n",
      "R1 = 0.45176, R2 = 0.83117, X = 64000, Y1 = 0, Y2 = 0\n",
      "\n",
      "R1 = 0.45176, R2 = 4.15584, X = 1290, Y1 = 0, Y2 = 4072\n",
      "\n",
      "R1 = 4.51765, R2 = 0.83117, X = 1053, Y1 = 3703, Y2 = 0\n",
      "\n",
      "R1 = 1.34783, R2 = 1.34783, X = 3976, Y1 = 553, Y2 = 830\n",
      "\n",
      "R1 = 1.82857, R2 = 4.92301, X = 1042, Y1 = 0, Y2 = 4088\n"
     ]
    }
   ],
   "source": [
    "# Given constants\n",
    "P = 2000\n",
    "mu = 1/32\n",
    "gamma1 = 0.1\n",
    "gamma2 = 0.05\n",
    "tau = 0.4\n",
    "B1 = 0.06\n",
    "B2 = 0.5\n",
    "c = 4\n",
    "X0 = 8000\n",
    "Y01 = 200\n",
    "Y02 = 300\n",
    "delta_t_values = [0.01]\n",
    "\n",
    "# Function to perform one iteration of the system of equations using Gauss-Seidel-like method\n",
    "def iterate_system(Xn, Y1n, Y2n, dt):\n",
    "    Xnp1 = (Xn + P * dt) / (1 + dt * (mu + c / (Xn + Y1n + Y2n) * (B1 * Y1n + B2 * Y2n)))\n",
    "    Y1np1 = Y1n / (1 + dt * (mu + gamma1 + tau - (B1 * c * Xnp1) / (Xnp1 + Y1n + Y2n)))\n",
    "    Y2np1 = Y2n / (1 + dt * (mu + gamma2 + tau - (B2 * c * Xnp1) / (Xnp1 + Y1np1 + Y2n)))\n",
    "    return Xnp1, Y1np1, Y2np1\n",
    "\n",
    "# Function to solve the system for all time steps\n",
    "def solve_system(delta_t):\n",
    "\n",
    "    max_iterations = 2000000\n",
    "    tol = 1e-6\n",
    "    \n",
    "    # Solve for each delta_t\n",
    "    for dt in delta_t:\n",
    "        Xn = X0\n",
    "        Y1n = Y01\n",
    "        Y2n = Y02\n",
    "        \n",
    "        # Gauss-Seidel-like iteration\n",
    "        for _ in range(max_iterations):\n",
    "            Xnp1, Y1np1, Y2np1 = iterate_system(Xn, Y1n, Y2n, dt)\n",
    "            \n",
    "            # Check convergence\n",
    "            if abs(Xnp1 - Xn) < tol and abs(Y1np1 - Y1n) < tol and abs(Y2np1 - Y2n) < tol:\n",
    "                R1 =  (B1 * c)/(mu + gamma1 + tau)\n",
    "                R2 =  (B2 * c)/(mu + gamma2 + tau)\n",
    "                print(f\"R1 = {round(R1, 5)}, R2 = {round(R2, 5)}, X = {round(Xnp1)}, Y1 = {round(Y1np1)}, Y2 = {round(Y2np1)}\")\n",
    "                break  # Break out of the loop if converged\n",
    "            \n",
    "            # Update variables for next iteration\n",
    "            Xn, Y1n, Y2n = Xnp1, Y1np1, Y2np1\n",
    "\n",
    "beta1_array = [0.06, 0.06, 0.6, 0.457, 0.3]\n",
    "gamma1_array = [0.1, 0.1, 0.1, 0.925, 0.225]\n",
    "beta2_array = [0.1, 0.5, 0.1, 0.457, 0.5923]\n",
    "gamma2_array = [0.05, 0.05, 0.05, 0.925, 0.05]\n",
    "for i in range(5):\n",
    "\n",
    "    B1 = beta1_array[i]\n",
    "    gamma1 = gamma1_array[i]\n",
    "    B2 = beta2_array[i]\n",
    "    gamma2 = gamma2_array[i]\n",
    "    print()\n",
    "    solve_system(delta_t_values)\n",
    "\n",
    "\n",
    "\n"
   ]
  }
 ],
 "metadata": {
  "kernelspec": {
   "display_name": "base",
   "language": "python",
   "name": "python3"
  },
  "language_info": {
   "codemirror_mode": {
    "name": "ipython",
    "version": 3
   },
   "file_extension": ".py",
   "mimetype": "text/x-python",
   "name": "python",
   "nbconvert_exporter": "python",
   "pygments_lexer": "ipython3",
   "version": "3.9.7"
  }
 },
 "nbformat": 4,
 "nbformat_minor": 2
}
