{
 "cells": [
  {
   "cell_type": "markdown",
   "metadata": {},
   "source": [
    "Experiment 1: Effect of time step, l"
   ]
  },
  {
   "cell_type": "code",
   "execution_count": 30,
   "metadata": {},
   "outputs": [],
   "source": [
    "import numpy as np\n",
    "import math"
   ]
  },
  {
   "cell_type": "markdown",
   "metadata": {},
   "source": [
    "using the implicit method"
   ]
  },
  {
   "cell_type": "code",
   "execution_count": 37,
   "metadata": {},
   "outputs": [
    {
     "name": "stdout",
     "output_type": "stream",
     "text": [
      "For delta_t = 0.01: X = 1290.3225806456214, Y1 = 8.873416070380664e-09, Y2 = 4072.056975302486\n",
      "For delta_t = 1: X = 1290.3225806451783, Y1 = 1.459474974662082e-15, Y2 = 4072.0569752826727\n",
      "For delta_t = 3: X = 63999.99999999903, Y1 = 5.655120406472925e-95, Y2 = 2.8507236165568116e-193\n",
      "For delta_t = 3.3: X = 63999.99999999915, Y1 = 3.3149975955781596e-93, Y2 = 1.0467850118779407e-193\n",
      "For delta_t = 10: X = 63999.999999999745, Y1 = 1.0274511853837072e-70, Y2 = 9.125316420824659e-139\n",
      "For delta_t = 1000: X = 64000.0, Y1 = 5.043036460757328e-28, Y2 = 2.0509825879325442e-36\n"
     ]
    }
   ],
   "source": [
    "# Given constants\n",
    "P = 2000\n",
    "mu = 1/32\n",
    "gamma1 = 0.1\n",
    "gamma2 = 0.05\n",
    "tau = 0.4\n",
    "B1 = 0.06\n",
    "B2 = 0.5\n",
    "c = 4\n",
    "X0 = 8000\n",
    "Y01 = 200\n",
    "Y02 = 300\n",
    "delta_t_values = [0.01, 1, 3, 3.3, 10, 1000]\n",
    "\n",
    "# Function to perform one iteration of the system of equations using Gauss-Seidel-like method\n",
    "def iterate_system(Xn, Y1n, Y2n, dt):\n",
    "    Xnp1 = (Xn + P * dt) / (1 + dt * (mu + c / (Xn + Y1n + Y2n) * (B1 * Y1n + B2 * Y2n)))\n",
    "    Y1np1 = Y1n / (1 + dt * (mu + gamma1 + tau - (B1 * c * Xnp1) / (Xnp1 + Y1n + Y2n)))\n",
    "    Y2np1 = Y2n / (1 + dt * (mu + gamma2 + tau - (B2 * c * Xnp1) / (Xnp1 + Y1np1 + Y2n)))\n",
    "    return Xnp1, Y1np1, Y2np1\n",
    "\n",
    "# Function to solve the system for all time steps\n",
    "def solve_system(delta_t):\n",
    "    Xn = X0\n",
    "    Y1n = Y01\n",
    "    Y2n = Y02\n",
    "    max_iterations = 200000\n",
    "    tol = 1e-10\n",
    "    \n",
    "    # Gauss-Seidel-like iteration\n",
    "    for _ in range(max_iterations):\n",
    "        Xnp1, Y1np1, Y2np1 = iterate_system(Xn, Y1n, Y2n, delta_t)\n",
    "        \n",
    "        # Check convergence\n",
    "        if abs(Xnp1 - Xn) < tol and abs(Y1np1 - Y1n) < tol and abs(Y2np1 - Y2n) < tol:\n",
    "            return Xnp1, Y1np1, Y2np1\n",
    "        \n",
    "        # Update variables for next iteration\n",
    "        Xn, Y1n, Y2n = Xnp1, Y1np1, Y2np1\n",
    "    \n",
    "    # If max_iterations reached without convergence\n",
    "    raise ValueError(\"Failed to converge within the maximum number of iterations.\")\n",
    "\n",
    "# Solve the system for all time steps\n",
    "for dt in delta_t_values:\n",
    "    X, Y1, Y2 = solve_system(dt)\n",
    "    print(f\"For delta_t = {dt}: X = {X}, Y1 = {Y1}, Y2 = {Y2}\")\n"
   ]
  },
  {
   "cell_type": "markdown",
   "metadata": {},
   "source": [
    "RK4 method is shown below"
   ]
  },
  {
   "cell_type": "code",
   "execution_count": 1,
   "metadata": {},
   "outputs": [
    {
     "name": "stdout",
     "output_type": "stream",
     "text": [
      "Time step: 0.01\n",
      "Converged\n",
      "\n",
      "Time step: 1\n",
      "Converged\n",
      "\n",
      "Time step: 3\n",
      "Converged\n",
      "\n",
      "Time step: 3.3\n",
      "Diverged\n",
      "\n",
      "Time step: 10\n",
      "Diverged\n",
      "\n",
      "Time step: 1000\n",
      "Diverged\n",
      "\n"
     ]
    }
   ],
   "source": [
    "def dX_dt(P, mu, B1, B2, c, X, Y1, Y2):\n",
    "    N = X + Y1 + Y2\n",
    "    if N == 0:\n",
    "        return 0  \n",
    "    else:\n",
    "        return P - mu * X - (1/N) * B1 * c * X * Y1 - (1/N) * B2 * c * X * Y2\n",
    "\n",
    "\n",
    "def dY1_dt(B1, c, mu, gamma1, tau, X, Y1):\n",
    "    N = X + Y1 + Y2\n",
    "    if N == 0:\n",
    "        return 0  \n",
    "    else:\n",
    "        return (1/N) * B1 * c * X * Y1 - (mu + gamma1 + tau) * Y1\n",
    "\n",
    "\n",
    "\n",
    "def dY2_dt(B2, c, mu, gamma2, tau, X, Y2):\n",
    "    N = X + Y1 + Y2\n",
    "    if N == 0:\n",
    "        return 0  \n",
    "    else:\n",
    "        return (1/N) * B2 * c * X * Y2 - (mu + gamma2 + tau) * Y2\n",
    "\n",
    "def RK4_step(P, mu, B1, B2, c, gamma1, gamma2, tau, X, Y1, Y2, dt):\n",
    "    k1_X = dX_dt(P, mu, B1, B2, c, X, Y1, Y2)\n",
    "    k1_Y1 = dY1_dt(B1, c, mu, gamma1, tau, X, Y1)\n",
    "    k1_Y2 = dY2_dt(B2, c, mu, gamma2, tau, X, Y2)\n",
    "\n",
    "    X_half = X + 0.5 * dt * k1_X\n",
    "    Y1_half = Y1 + 0.5 * dt * k1_Y1\n",
    "    Y2_half = Y2 + 0.5 * dt * k1_Y2\n",
    "\n",
    "    k2_X = dX_dt(P, mu, B1, B2, c, X_half, Y1_half, Y2_half)\n",
    "    k2_Y1 = dY1_dt(B1, c, mu, gamma1, tau, X_half, Y1_half)\n",
    "    k2_Y2 = dY2_dt(B2, c, mu, gamma2, tau, X_half, Y2_half)\n",
    "\n",
    "    X_half2 = X + 0.5 * dt * k2_X\n",
    "    Y1_half2 = Y1 + 0.5 * dt * k2_Y1\n",
    "    Y2_half2 = Y2 + 0.5 * dt * k2_Y2\n",
    "\n",
    "    k3_X = dX_dt(P, mu, B1, B2, c, X_half2, Y1_half2, Y2_half2)\n",
    "    k3_Y1 = dY1_dt(B1, c, mu, gamma1, tau, X_half2, Y1_half2)\n",
    "    k3_Y2 = dY2_dt(B2, c, mu, gamma2, tau, X_half2, Y2_half2)\n",
    "\n",
    "    X_end = X + dt * k3_X\n",
    "    Y1_end = Y1 + dt * k3_Y1\n",
    "    Y2_end = Y2 + dt * k3_Y2\n",
    "\n",
    "    return X_end, Y1_end, Y2_end\n",
    "\n",
    "# Parameters and initial conditions\n",
    "P = 2000\n",
    "mu = 1/32\n",
    "gamma1 = 0.1\n",
    "gamma2 = 0.05\n",
    "tau = 0.4\n",
    "B1 = 0.06\n",
    "B2 = 0.5\n",
    "c = 4\n",
    "X0 = 8000\n",
    "Y01 = 200\n",
    "Y02 = 300\n",
    "dt_values = [0.01, 1, 3, 3.3, 10, 1000]\n",
    "\n",
    "# Simulation\n",
    "for dt in dt_values:\n",
    "    X = X0\n",
    "    Y1 = Y01\n",
    "    Y2 = Y02\n",
    "    print(f\"Time step: {dt}\")\n",
    "    for i in range(130):  # Adjust number of steps as needed\n",
    "        X_prev, Y1_prev, Y2_prev = X, Y1, Y2\n",
    "        X, Y1, Y2 = RK4_step(P, mu, B1, B2, c, gamma1, gamma2, tau, X, Y1, Y2, 1/dt)\n",
    "    # Check convergence using epsilon\n",
    "    epsilon = 1e-6  # Define a small tolerance\n",
    "    if abs(X - X_prev) < epsilon and abs(Y1 - Y1_prev) < epsilon and abs(Y2 - Y2_prev) < epsilon:\n",
    "        print(\"Converged\")\n",
    "    else:\n",
    "        print(\"Diverged\")\n",
    "    print()\n",
    "\n"
   ]
  }
 ],
 "metadata": {
  "kernelspec": {
   "display_name": "base",
   "language": "python",
   "name": "python3"
  },
  "language_info": {
   "codemirror_mode": {
    "name": "ipython",
    "version": 3
   },
   "file_extension": ".py",
   "mimetype": "text/x-python",
   "name": "python",
   "nbconvert_exporter": "python",
   "pygments_lexer": "ipython3",
   "version": "3.9.7"
  }
 },
 "nbformat": 4,
 "nbformat_minor": 2
}
